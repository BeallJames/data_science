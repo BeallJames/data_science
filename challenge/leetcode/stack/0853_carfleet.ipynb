{
 "cells": [
  {
   "cell_type": "code",
   "execution_count": 34,
   "metadata": {},
   "outputs": [
    {
     "name": "stdout",
     "output_type": "stream",
     "text": [
      "timeInit [1.0, 1.0, 12.0, 7.0, 3.0]\n",
      "final time [12.0, 7.0, 3.0]\n",
      "3\n"
     ]
    }
   ],
   "source": [
    "from typing import List\n",
    "\n",
    "class Solution:\n",
    "    def carFleet(self, target: int, position: List[int], speed: List[int]) -> int:\n",
    "        \n",
    "        # create time list\n",
    "        time = []\n",
    "        for i in range(len(position)):\n",
    "            time.append((target - position[i]) / speed[i])\n",
    "        print(f'timeInit {time}')\n",
    "        \n",
    "        # remove elements that are faster than element in front of it\n",
    "\n",
    "        for i in range(len(time) - 1, 0, -1):\n",
    "            if time[i - 1] <= time[i]:\n",
    "                del time[i - 1]\n",
    "                \n",
    "        # print(f'final time {time}')\n",
    "\n",
    "        return len(time)\n",
    "\n",
    "\n",
    "                \n",
    "\n",
    "    \n",
    "\n",
    "sol = Solution()\n",
    "\n",
    "target = 12\n",
    "position = [10,8,0,5,3]\n",
    "speed = [2,4,1,1,3]\n",
    "\n",
    "print(sol.carFleet(target, position, speed))"
   ]
  }
 ],
 "metadata": {
  "kernelspec": {
   "display_name": "base",
   "language": "python",
   "name": "python3"
  },
  "language_info": {
   "codemirror_mode": {
    "name": "ipython",
    "version": 3
   },
   "file_extension": ".py",
   "mimetype": "text/x-python",
   "name": "python",
   "nbconvert_exporter": "python",
   "pygments_lexer": "ipython3",
   "version": "3.11.5"
  }
 },
 "nbformat": 4,
 "nbformat_minor": 2
}
