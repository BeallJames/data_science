{
 "cells": [
  {
   "cell_type": "code",
   "execution_count": 32,
   "metadata": {},
   "outputs": [
    {
     "name": "stdout",
     "output_type": "stream",
     "text": [
      "timeInit [1.0, 1.0, 12.0, 7.0, 3.0]\n"
     ]
    },
    {
     "ename": "IndexError",
     "evalue": "list index out of range",
     "output_type": "error",
     "traceback": [
      "\u001b[1;31m---------------------------------------------------------------------------\u001b[0m",
      "\u001b[1;31mIndexError\u001b[0m                                Traceback (most recent call last)",
      "Cell \u001b[1;32mIn[32], line 33\u001b[0m\n\u001b[0;32m     30\u001b[0m position \u001b[38;5;241m=\u001b[39m [\u001b[38;5;241m10\u001b[39m,\u001b[38;5;241m8\u001b[39m,\u001b[38;5;241m0\u001b[39m,\u001b[38;5;241m5\u001b[39m,\u001b[38;5;241m3\u001b[39m]\n\u001b[0;32m     31\u001b[0m speed \u001b[38;5;241m=\u001b[39m [\u001b[38;5;241m2\u001b[39m,\u001b[38;5;241m4\u001b[39m,\u001b[38;5;241m1\u001b[39m,\u001b[38;5;241m1\u001b[39m,\u001b[38;5;241m3\u001b[39m]\n\u001b[1;32m---> 33\u001b[0m \u001b[38;5;28mprint\u001b[39m(sol\u001b[38;5;241m.\u001b[39mcarFleet(target, position, speed))\n",
      "Cell \u001b[1;32mIn[32], line 16\u001b[0m, in \u001b[0;36mSolution.carFleet\u001b[1;34m(self, target, position, speed)\u001b[0m\n\u001b[0;32m     12\u001b[0m \u001b[38;5;66;03m# set slowest\u001b[39;00m\n\u001b[0;32m     13\u001b[0m \u001b[38;5;66;03m# slowest = time[-1]\u001b[39;00m\n\u001b[0;32m     15\u001b[0m \u001b[38;5;28;01mfor\u001b[39;00m i \u001b[38;5;129;01min\u001b[39;00m \u001b[38;5;28mrange\u001b[39m(\u001b[38;5;28mlen\u001b[39m(time) \u001b[38;5;241m-\u001b[39m \u001b[38;5;241m1\u001b[39m, \u001b[38;5;241m-\u001b[39m\u001b[38;5;241m1\u001b[39m, \u001b[38;5;241m-\u001b[39m\u001b[38;5;241m1\u001b[39m):\n\u001b[1;32m---> 16\u001b[0m     \u001b[38;5;28;01mif\u001b[39;00m time[i \u001b[38;5;241m+\u001b[39m \u001b[38;5;241m1\u001b[39m] \u001b[38;5;241m<\u001b[39m time[i]:\n\u001b[0;32m     17\u001b[0m         time\u001b[38;5;241m.\u001b[39mremove[i \u001b[38;5;241m+\u001b[39m \u001b[38;5;241m1\u001b[39m]\n",
      "\u001b[1;31mIndexError\u001b[0m: list index out of range"
     ]
    }
   ],
   "source": [
    "from typing import List\n",
    "\n",
    "class Solution:\n",
    "    def carFleet(self, target: int, position: List[int], speed: List[int]) -> int:\n",
    "        \n",
    "        # create time list\n",
    "        time = []\n",
    "        for i in range(len(position)):\n",
    "            time.append((target - position[i]) / speed[i])\n",
    "        print(f'timeInit {time}')\n",
    "        \n",
    "        # set slowest\n",
    "        # slowest = time[-1]\n",
    "\n",
    "        for i in range(len(time) - 1, -1, -1):\n",
    "            if time[i - 1] < time[i]:\n",
    "                time.remove[i - 1]\n",
    "                # return time\n",
    "            # else:\n",
    "            #     continue\n",
    "\n",
    "\n",
    "                \n",
    "\n",
    "    \n",
    "\n",
    "sol = Solution()\n",
    "\n",
    "target = 12\n",
    "position = [10,8,0,5,3]\n",
    "speed = [2,4,1,1,3]\n",
    "\n",
    "print(sol.carFleet(target, position, speed))"
   ]
  }
 ],
 "metadata": {
  "kernelspec": {
   "display_name": "base",
   "language": "python",
   "name": "python3"
  },
  "language_info": {
   "codemirror_mode": {
    "name": "ipython",
    "version": 3
   },
   "file_extension": ".py",
   "mimetype": "text/x-python",
   "name": "python",
   "nbconvert_exporter": "python",
   "pygments_lexer": "ipython3",
   "version": "3.11.5"
  }
 },
 "nbformat": 4,
 "nbformat_minor": 2
}
