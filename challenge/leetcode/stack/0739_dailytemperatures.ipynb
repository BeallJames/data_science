{
 "cells": [
  {
   "cell_type": "code",
   "execution_count": 1,
   "metadata": {},
   "outputs": [
    {
     "name": "stdout",
     "output_type": "stream",
     "text": [
      "[3, 1, 1, 2, 1, 1, 0, 1, 1, 0]\n"
     ]
    }
   ],
   "source": [
    "from typing import List\n",
    "\n",
    "class Solution:\n",
    "    def dailyTemperatures(self, temperatures: List[int]) -> List[int]:\n",
    "        res = []\n",
    "\n",
    "        i = 0\n",
    "        j = 1\n",
    "        # print(f'temp {len(temperatures)}')\n",
    "        while i + j < len(temperatures):\n",
    "            if temperatures[i+j] > temperatures[i]:\n",
    "                res.append(j)\n",
    "                i += 1\n",
    "                j = 1\n",
    "            else:\n",
    "                j += 1\n",
    "                if i + j >= len(temperatures):\n",
    "                    res.append(0)\n",
    "                    i += 1\n",
    "                    j = 1\n",
    "        res.append(0)\n",
    "        return res\n",
    "\n",
    "\n",
    "sol = Solution()\n",
    "temperatures = [55,38,53,81,61,93,97,32,43,78]\n",
    "print(sol.dailyTemperatures(temperatures))"
   ]
  },
  {
   "cell_type": "code",
   "execution_count": 13,
   "metadata": {},
   "outputs": [
    {
     "name": "stdout",
     "output_type": "stream",
     "text": [
      "[32, 38, 43, 53, 55, 61, 78, 81, 93, 97]\n"
     ]
    },
    {
     "ename": "TypeError",
     "evalue": "'list' object is not callable",
     "output_type": "error",
     "traceback": [
      "\u001b[1;31m---------------------------------------------------------------------------\u001b[0m",
      "\u001b[1;31mTypeError\u001b[0m                                 Traceback (most recent call last)",
      "Cell \u001b[1;32mIn[13], line 21\u001b[0m\n\u001b[0;32m     18\u001b[0m sol \u001b[38;5;241m=\u001b[39m Solution()\n\u001b[0;32m     19\u001b[0m temperatures \u001b[38;5;241m=\u001b[39m [\u001b[38;5;241m55\u001b[39m,\u001b[38;5;241m38\u001b[39m,\u001b[38;5;241m53\u001b[39m,\u001b[38;5;241m81\u001b[39m,\u001b[38;5;241m61\u001b[39m,\u001b[38;5;241m93\u001b[39m,\u001b[38;5;241m97\u001b[39m,\u001b[38;5;241m32\u001b[39m,\u001b[38;5;241m43\u001b[39m,\u001b[38;5;241m78\u001b[39m]\n\u001b[1;32m---> 21\u001b[0m \u001b[38;5;28mprint\u001b[39m(sol\u001b[38;5;241m.\u001b[39mdailyTemperatures(temperatures))\n",
      "Cell \u001b[1;32mIn[13], line 12\u001b[0m, in \u001b[0;36mSolution.dailyTemperatures\u001b[1;34m(self, temperatures)\u001b[0m\n\u001b[0;32m     10\u001b[0m i \u001b[38;5;241m=\u001b[39m \u001b[38;5;241m0\u001b[39m\n\u001b[0;32m     11\u001b[0m \u001b[38;5;28;01mfor\u001b[39;00m i \u001b[38;5;129;01min\u001b[39;00m \u001b[38;5;28mrange\u001b[39m(\u001b[38;5;28mlen\u001b[39m(temperatures)):\n\u001b[1;32m---> 12\u001b[0m     \u001b[38;5;28;01mif\u001b[39;00m temperatures\u001b[38;5;241m.\u001b[39mindex(templist[i]) \u001b[38;5;241m<\u001b[39m temperatures\u001b[38;5;241m.\u001b[39mindex(templist(i \u001b[38;5;241m+\u001b[39m \u001b[38;5;241m1\u001b[39m)):\n\u001b[0;32m     13\u001b[0m         res\u001b[38;5;241m.\u001b[39mappend(temperatures\u001b[38;5;241m.\u001b[39mindex(templist[i]) \u001b[38;5;241m<\u001b[39m temperatures\u001b[38;5;241m.\u001b[39mindex(templist(i \u001b[38;5;241m+\u001b[39m \u001b[38;5;241m1\u001b[39m)))\n\u001b[0;32m     15\u001b[0m \u001b[38;5;28;01mreturn\u001b[39;00m res\n",
      "\u001b[1;31mTypeError\u001b[0m: 'list' object is not callable"
     ]
    }
   ],
   "source": [
    "from typing import List\n",
    "\n",
    "class Solution:\n",
    "    def dailyTemperatures(self, temperatures: List[int]) -> List[int]:\n",
    "\n",
    "        templist = sorted(temperatures)\n",
    "        print(templist)\n",
    "    \n",
    "        res = []\n",
    "        i = 0\n",
    "        for i in range(len(temperatures)):\n",
    "            if temperatures.index(templist[i]) < temperatures.index(templist(i + 1)):\n",
    "                res.append(temperatures.index(templist[i]) < temperatures.index(templist(i + 1)))\n",
    "        \n",
    "        return res\n",
    "                \n",
    "\n",
    "sol = Solution()\n",
    "temperatures = [55,38,53,81,61,93,97,32,43,78]\n",
    "\n",
    "print(sol.dailyTemperatures(temperatures))"
   ]
  }
 ],
 "metadata": {
  "kernelspec": {
   "display_name": "base",
   "language": "python",
   "name": "python3"
  },
  "language_info": {
   "codemirror_mode": {
    "name": "ipython",
    "version": 3
   },
   "file_extension": ".py",
   "mimetype": "text/x-python",
   "name": "python",
   "nbconvert_exporter": "python",
   "pygments_lexer": "ipython3",
   "version": "3.11.5"
  }
 },
 "nbformat": 4,
 "nbformat_minor": 2
}
