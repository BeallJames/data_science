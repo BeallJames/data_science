{
 "cells": [
  {
   "cell_type": "code",
   "execution_count": 21,
   "metadata": {},
   "outputs": [
    {
     "name": "stdout",
     "output_type": "stream",
     "text": [
      "ans - ['', '', '']\n"
     ]
    }
   ],
   "source": [
    "from typing import List\n",
    "\n",
    "class Solution:\n",
    "    def generateParenthesis(self, n: int) -> List[str]:\n",
    "        parlist = []\n",
    "        i=0\n",
    "        for i in range(0,n):\n",
    "            parlist.append('')\n",
    "\n",
    "        j=0\n",
    "        for j in range(0,n):\n",
    "            parlist[j] = \n",
    "        return parlist\n",
    "\n",
    "\n",
    "n = int(input(f'enter number: '))\n",
    "s = Solution()\n",
    "print(f'ans - {s.generateParenthesis(n)}')\n"
   ]
  },
  {
   "cell_type": "code",
   "execution_count": null,
   "metadata": {},
   "outputs": [],
   "source": []
  }
 ],
 "metadata": {
  "kernelspec": {
   "display_name": "base",
   "language": "python",
   "name": "python3"
  },
  "language_info": {
   "codemirror_mode": {
    "name": "ipython",
    "version": 3
   },
   "file_extension": ".py",
   "mimetype": "text/x-python",
   "name": "python",
   "nbconvert_exporter": "python",
   "pygments_lexer": "ipython3",
   "version": "3.11.5"
  }
 },
 "nbformat": 4,
 "nbformat_minor": 2
}
