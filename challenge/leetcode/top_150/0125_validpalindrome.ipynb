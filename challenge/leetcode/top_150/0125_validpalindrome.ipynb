{
 "cells": [
  {
   "cell_type": "code",
   "execution_count": 1,
   "metadata": {},
   "outputs": [
    {
     "name": "stdout",
     "output_type": "stream",
     "text": [
      "['r', 'a', 'c', 'e', 'c', 'a', 'r']\n"
     ]
    },
    {
     "ename": "TypeError",
     "evalue": "list indices must be integers or slices, not str",
     "output_type": "error",
     "traceback": [
      "\u001b[1;31m---------------------------------------------------------------------------\u001b[0m",
      "\u001b[1;31mTypeError\u001b[0m                                 Traceback (most recent call last)",
      "Cell \u001b[1;32mIn[1], line 18\u001b[0m\n\u001b[0;32m     16\u001b[0m sol \u001b[38;5;241m=\u001b[39m Solution()\n\u001b[0;32m     17\u001b[0m example \u001b[38;5;241m=\u001b[39m \u001b[38;5;124m\"\u001b[39m\u001b[38;5;124mr acec a r\u001b[39m\u001b[38;5;124m\"\u001b[39m\n\u001b[1;32m---> 18\u001b[0m sol\u001b[38;5;241m.\u001b[39misPalindrome(example)\n",
      "Cell \u001b[1;32mIn[1], line 11\u001b[0m, in \u001b[0;36mSolution.isPalindrome\u001b[1;34m(self, s)\u001b[0m\n\u001b[0;32m      9\u001b[0m \u001b[38;5;28mprint\u001b[39m(anagram)\n\u001b[0;32m     10\u001b[0m \u001b[38;5;28;01mfor\u001b[39;00m i \u001b[38;5;129;01min\u001b[39;00m anagram:\n\u001b[1;32m---> 11\u001b[0m     \u001b[38;5;28;01mif\u001b[39;00m anagram[i] \u001b[38;5;241m==\u001b[39m anagram[\u001b[38;5;241m-\u001b[39m(\u001b[38;5;241m1\u001b[39m\u001b[38;5;241m+\u001b[39mi)]:\n\u001b[0;32m     12\u001b[0m         \u001b[38;5;66;03m# string.pop(i)\u001b[39;00m\n\u001b[0;32m     13\u001b[0m         \u001b[38;5;66;03m# string.pop(-(1+i))\u001b[39;00m\n\u001b[0;32m     14\u001b[0m         \u001b[38;5;28mprint\u001b[39m(anagram[i], anagram[\u001b[38;5;241m-\u001b[39m(\u001b[38;5;241m1\u001b[39m\u001b[38;5;241m+\u001b[39mi)])\n",
      "\u001b[1;31mTypeError\u001b[0m: list indices must be integers or slices, not str"
     ]
    }
   ],
   "source": [
    "from pydantic import BaseModel\n",
    "\n",
    "class Solution:\n",
    "    def isPalindrome(self, s: str) -> bool:\n",
    "        anagram = []\n",
    "        newstring = (s.lower().strip().replace(\" \", \"\").replace(\",\", \"\").replace(\":\", \"\"))\n",
    "        for i in newstring:\n",
    "            anagram.append(i)\n",
    "        print(anagram)\n",
    "        for i in anagram:\n",
    "            if anagram[i] == anagram[-(1+i)]:\n",
    "                # string.pop(i)\n",
    "                # string.pop(-(1+i))\n",
    "                print(anagram[i], anagram[-(1+i)])\n",
    "\n",
    "sol = Solution()\n",
    "example = \"r acec a r\"\n",
    "sol.isPalindrome(example)"
   ]
  }
 ],
 "metadata": {
  "kernelspec": {
   "display_name": "base",
   "language": "python",
   "name": "python3"
  },
  "language_info": {
   "codemirror_mode": {
    "name": "ipython",
    "version": 3
   },
   "file_extension": ".py",
   "mimetype": "text/x-python",
   "name": "python",
   "nbconvert_exporter": "python",
   "pygments_lexer": "ipython3",
   "version": "3.11.5"
  }
 },
 "nbformat": 4,
 "nbformat_minor": 2
}
