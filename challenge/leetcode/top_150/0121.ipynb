{
 "cells": [
  {
   "cell_type": "code",
   "execution_count": 9,
   "metadata": {},
   "outputs": [
    {
     "data": {
      "text/plain": [
       "5"
      ]
     },
     "execution_count": 9,
     "metadata": {},
     "output_type": "execute_result"
    }
   ],
   "source": [
    "class Solution():\n",
    "    def maxProfit(self, prices: list[int]) -> int:\n",
    "        maxprofit = 0\n",
    "        for i in range(len(prices)):\n",
    "            for j in range(i+1, len(prices)):\n",
    "                profit = prices[j] - prices[i]\n",
    "                if profit > maxprofit:\n",
    "                    maxprofit = profit\n",
    "        return maxprofit\n",
    "\n",
    "stock = [7,1,5,3,6,4]\n",
    "sol = Solution()\n",
    "sol.maxProfit(stock)"
   ]
  },
  {
   "cell_type": "code",
   "execution_count": 24,
   "metadata": {},
   "outputs": [
    {
     "data": {
      "text/plain": [
       "[1, 3, 4, 5, 6, 7]"
      ]
     },
     "execution_count": 24,
     "metadata": {},
     "output_type": "execute_result"
    }
   ],
   "source": [
    "class Solution():\n",
    "    def maxProfit(self, prices: list[int]) -> int:\n",
    "        max = 0\n",
    "        ind = 0\n",
    "        for i in prices:\n",
    "            if \n",
    "            \n",
    "        \n",
    "\n",
    "prices = [7,1,5,3,6,4]\n",
    "sol = Solution()\n",
    "sol.maxProfit(prices)"
   ]
  }
 ],
 "metadata": {
  "kernelspec": {
   "display_name": "Python 3",
   "language": "python",
   "name": "python3"
  },
  "language_info": {
   "codemirror_mode": {
    "name": "ipython",
    "version": 3
   },
   "file_extension": ".py",
   "mimetype": "text/x-python",
   "name": "python",
   "nbconvert_exporter": "python",
   "pygments_lexer": "ipython3",
   "version": "3.11.2"
  }
 },
 "nbformat": 4,
 "nbformat_minor": 2
}
