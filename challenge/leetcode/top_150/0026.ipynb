{
 "cells": [
  {
   "cell_type": "code",
   "execution_count": 16,
   "metadata": {},
   "outputs": [],
   "source": [
    "class Solution():\n",
    "    def removeDuplicates(self, nums: list[int]) -> int:\n",
    "        removed_count = 0\n",
    "        for i in nums:\n",
    "            while nums.count(i) >= 2:\n",
    "                removed_count += 1\n",
    "                nums.remove(i)\n",
    "                nums.append('_')\n",
    "        return len(nums) - removed_count\n",
    "\n"
   ]
  },
  {
   "cell_type": "code",
   "execution_count": 17,
   "metadata": {},
   "outputs": [
    {
     "name": "stdout",
     "output_type": "stream",
     "text": [
      "2\n"
     ]
    }
   ],
   "source": [
    "sol = Solution()\n",
    "nums = [1,1,2]\n",
    "print(sol.removeDuplicates(nums))\n",
    "# print(sol.removeDuplicates(nums).nums)"
   ]
  }
 ],
 "metadata": {
  "kernelspec": {
   "display_name": "Python 3",
   "language": "python",
   "name": "python3"
  },
  "language_info": {
   "codemirror_mode": {
    "name": "ipython",
    "version": 3
   },
   "file_extension": ".py",
   "mimetype": "text/x-python",
   "name": "python",
   "nbconvert_exporter": "python",
   "pygments_lexer": "ipython3",
   "version": "3.11.2"
  }
 },
 "nbformat": 4,
 "nbformat_minor": 2
}
