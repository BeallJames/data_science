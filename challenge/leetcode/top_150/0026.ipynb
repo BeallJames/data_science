{
 "cells": [
  {
   "cell_type": "code",
   "execution_count": 4,
   "metadata": {},
   "outputs": [
    {
     "name": "stdout",
     "output_type": "stream",
     "text": [
      "0\n",
      "1\n",
      "2\n",
      "3\n",
      "4\n",
      "_\n",
      "_\n",
      "_\n",
      "_\n",
      "_\n",
      "5, nums = [0, 1, 2, 3, 4, '_', '_', '_', '_', '_']\n"
     ]
    }
   ],
   "source": [
    "class Solution():\n",
    "    def removeDuplicates(self, nums: list[int]) -> int:\n",
    "        removed_count = 0\n",
    "        for i in nums:\n",
    "            print(i)\n",
    "            while (nums.count(i) >= 2) and (i != '_'):\n",
    "                removed_count += 1\n",
    "                nums.remove(i)\n",
    "                nums.append('_')\n",
    "        return len(nums) - removed_count, nums\n",
    "\n",
    "sol = Solution()\n",
    "nums = [0,0,1,1,1,2,2,3,3,4]\n",
    "count, array = sol.removeDuplicates(nums)\n",
    "print(f'{count}, nums = {array}')"
   ]
  },
  {
   "cell_type": "code",
   "execution_count": null,
   "metadata": {},
   "outputs": [],
   "source": [
    "# FINAL \n",
    "\n",
    "class Solution():\n",
    "    def removeDuplicates(self, nums: list[int]) -> int:\n",
    "        removed_count = 0\n",
    "        for i in nums:\n",
    "            print(i)\n",
    "            while (nums.count(i) >= 2) and (i != '_'):\n",
    "                removed_count += 1\n",
    "                nums.remove(i)\n",
    "                nums.append('_')\n",
    "        return len(nums) - removed_count"
   ]
  }
 ],
 "metadata": {
  "kernelspec": {
   "display_name": "Python 3",
   "language": "python",
   "name": "python3"
  },
  "language_info": {
   "codemirror_mode": {
    "name": "ipython",
    "version": 3
   },
   "file_extension": ".py",
   "mimetype": "text/x-python",
   "name": "python",
   "nbconvert_exporter": "python",
   "pygments_lexer": "ipython3",
   "version": "3.11.2"
  }
 },
 "nbformat": 4,
 "nbformat_minor": 2
}
