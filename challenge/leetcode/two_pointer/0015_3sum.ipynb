{
 "cells": [
  {
   "cell_type": "code",
   "execution_count": 9,
   "metadata": {},
   "outputs": [
    {
     "name": "stdout",
     "output_type": "stream",
     "text": [
      "[[0, 0, 0]]\n"
     ]
    }
   ],
   "source": [
    "from typing import List\n",
    "\n",
    "class Solution:\n",
    "    def threeSum(self, nums: List[int]) -> List[List[int]]:\n",
    "        threesumlist = []\n",
    "        l = 0\n",
    "        r = l + 1\n",
    "        while l < len(nums) - 2:\n",
    "            while r < len(nums) - 1:\n",
    "                if -(nums[l] + nums[r]) in nums[r+1:]: \n",
    "                    if sorted([nums[l], nums[r], -(nums[l] + nums[r])]) not in threesumlist:\n",
    "                        threesumlist.append(sorted([nums[l], nums[r], -(nums[l] + nums[r])]))\n",
    "                r += 1\n",
    "            l += 1\n",
    "            r = l + 1\n",
    "        return threesumlist\n",
    "        \n",
    "nums = [0,0,0,0]\n",
    "s = Solution()\n",
    "print(s.threeSum(nums))"
   ]
  },
  {
   "cell_type": "code",
   "execution_count": 4,
   "metadata": {},
   "outputs": [
    {
     "ename": "SyntaxError",
     "evalue": "invalid character '❤' (U+2764) (1689865315.py, line 44)",
     "output_type": "error",
     "traceback": [
      "\u001b[1;36m  Cell \u001b[1;32mIn[4], line 44\u001b[1;36m\u001b[0m\n\u001b[1;33m    view rawleetcode_15_solution.py hosted with ❤ by GitHub\u001b[0m\n\u001b[1;37m                                                ^\u001b[0m\n\u001b[1;31mSyntaxError\u001b[0m\u001b[1;31m:\u001b[0m invalid character '❤' (U+2764)\n"
     ]
    }
   ],
   "source": [
    "\n",
    "def threeSum(self, nums: List[int]) -> List[List[int]]:\n",
    "    if len(nums) < 3: # Requires 3 for a pair of 3\n",
    "        return []\n",
    "    elif len(nums) == 3 and sum(nums) == 0: # Naive case; check sum of 3 elements\n",
    "        return [nums]\n",
    "\n",
    "    nums = sorted(nums) # O(nlogn)\n",
    "\n",
    "    solutions = []\n",
    "    i = 0\n",
    "    while i < len(nums) - 2:                       # Minus 2 because need 3 elements\n",
    "        if i > 0 and nums[i] == nums[i-1]:         # Skip any duplicates\n",
    "            i += 1\n",
    "            continue\n",
    "  \n",
    "        # Solve a 2 sum\n",
    "        j = i + 1\n",
    "        k = len(nums) - 1\n",
    "        target = 0 - nums[i]\n",
    "  \n",
    "        while j < k:\n",
    "            # Skip duplicates\n",
    "            if j > i + 1 and nums[j] == nums[j-1]:\n",
    "                j += 1\n",
    "                continue\n",
    "  \n",
    "            # Skip duplicates\n",
    "            if k < len(nums)-1 and nums[k] == nums[k+1]:\n",
    "                k -= 1\n",
    "                continue\n",
    "\n",
    "            jkSum = nums[j] + nums[k]\n",
    "            if jkSum == target: # Found pair\n",
    "                solutions.append([nums[i], nums[j], nums[k]])\n",
    "\n",
    "            if jkSum > target:\n",
    "                k -= 1\n",
    "            else:\n",
    "                j += 1 # Advances from solution too\n",
    "\n",
    "        i += 1\n",
    "  \n",
    "    return solutions\n",
    "view rawleetcode_15_solution.py hosted with ❤ by GitHub"
   ]
  },
  {
   "cell_type": "code",
   "execution_count": 7,
   "metadata": {},
   "outputs": [
    {
     "name": "stdout",
     "output_type": "stream",
     "text": [
      "[[-1, -1, 2], [-1, 0, 1]]\n"
     ]
    }
   ],
   "source": [
    "import re\n",
    "from typing import List\n",
    "\n",
    "class Solution:\n",
    "    def threeSum(self, nums: List[int]) -> List[List[int]]:\n",
    "        threesumlist = []\n",
    "        nums.sort()\n",
    "        for i, a in enumerate(nums):\n",
    "            if i > 0 and a == nums[i-1]:\n",
    "                continue\n",
    "            l, r = i+1, len(nums)-1\n",
    "            while l < r:\n",
    "                three_sum = a + nums[l] + nums[r]\n",
    "                if three_sum > 0:\n",
    "                    r -= 1\n",
    "                elif three_sum < 0:\n",
    "                    l += 1\n",
    "                else:\n",
    "                    threesumlist.append([a, nums[l], nums[r]])\n",
    "                    l += 1\n",
    "                    while nums[l] == nums[l-1] and l < r:\n",
    "                        l += 1\n",
    "        return threesumlist\n",
    "\n",
    "\n",
    "\n",
    "nums = [-1,0,1,2,-1,-4]\n",
    "s = Solution()\n",
    "print(s.threeSum(nums))"
   ]
  },
  {
   "cell_type": "code",
   "execution_count": 25,
   "metadata": {},
   "outputs": [
    {
     "name": "stdout",
     "output_type": "stream",
     "text": [
      "[[-82, -11, 93], [-82, 13, 69], [-82, 17, 65], [-82, 21, 61], [-82, 26, 56], [-82, 33, 49], [-82, 34, 48], [-82, 36, 46], [-70, -14, 84], [-70, -6, 76], [-70, 1, 69], [-70, 13, 57], [-70, 15, 55], [-70, 21, 49], [-70, 34, 36], [-66, -11, 77], [-66, -3, 69], [-66, 1, 65], [-66, 10, 56], [-66, 17, 49], [-49, -6, 55], [-49, -3, 52], [-49, 1, 48], [-49, 2, 47], [-49, 13, 36], [-49, 15, 34], [-49, 21, 28], [-43, -14, 57], [-43, -6, 49], [-43, -3, 46], [-43, 10, 33], [-43, 12, 31], [-43, 15, 28], [-43, 17, 26], [-29, -14, 43], [-29, 1, 28], [-29, 12, 17], [-14, -14, 28], [-14, -3, 17], [-14, 1, 13], [-14, 2, 12], [-11, -6, 17], [-11, 1, 10], [-3, 1, 2]]\n"
     ]
    }
   ],
   "source": [
    "from typing import List\n",
    "\n",
    "class Solution:\n",
    "    def threeSum(self, nums: List[int]) -> List[List[int]]:\n",
    "        threesumlist = []\n",
    "        nums.sort()\n",
    "        l, r = 0, 1\n",
    "        while l < len(nums) - 2:\n",
    "            if nums[l] == nums[l-1] and l > 0:\n",
    "                l += 1\n",
    "                continue\n",
    "            while r < len(nums) - 1:\n",
    "                if -(nums[l] + nums[r]) in nums[r+1:]: \n",
    "                    if sorted([nums[l], nums[r], -(nums[l] + nums[r])]) not in threesumlist:\n",
    "                        threesumlist.append(sorted([nums[l], nums[r], -(nums[l] + nums[r])]))\n",
    "                r += 1\n",
    "            l += 1\n",
    "            r = l + 1\n",
    "        if len(threesumlist) > 1 and [0,0,0] in threesumlist:\n",
    "            list_to_remove = [0,0,0]\n",
    "            threesumlist.remove(list_to_remove)\n",
    "        return threesumlist\n",
    "\n",
    "\n",
    "\n",
    "nums = [34,55,79,28,46,33,2,48,31,-3,84,71,52,-3,93,15,21,-43,57,-6,86,56,94,74,83,-14,28,-66,46,-49,62,-11,43,65,77,12,47,61,26,1,13,29,55,-82,76,26,15,-29,36,-29,10,-70,69,17,49]\n",
    "s = Solution()\n",
    "print(s.threeSum(nums))\n",
    "\n",
    "# why is this returning [-14,-14,28]?\n",
    "\n",
    "# The issue with your code is that the check if -(nums[l] + nums[r]) in nums[r+1:] is not accurate for determining if the sum of three elements is zero. This check only verifies if the negation of the sum is present in the right sublist, but it doesn't ensure that the three elements sum to zero. This leads to incorrect results in the threesumlist."
   ]
  }
 ],
 "metadata": {
  "kernelspec": {
   "display_name": "base",
   "language": "python",
   "name": "python3"
  },
  "language_info": {
   "codemirror_mode": {
    "name": "ipython",
    "version": 3
   },
   "file_extension": ".py",
   "mimetype": "text/x-python",
   "name": "python",
   "nbconvert_exporter": "python",
   "pygments_lexer": "ipython3",
   "version": "3.11.5"
  }
 },
 "nbformat": 4,
 "nbformat_minor": 2
}
