{
 "cells": [
  {
   "cell_type": "code",
   "execution_count": 3,
   "metadata": {},
   "outputs": [
    {
     "name": "stdout",
     "output_type": "stream",
     "text": [
      "[[0, 0, 0]]\n"
     ]
    }
   ],
   "source": [
    "import re\n",
    "from typing import List\n",
    "\n",
    "class Solution:\n",
    "    def threeSum(self, nums: List[int]) -> List[List[int]]:\n",
    "        threesumlist = []\n",
    "        l = 0\n",
    "        r = l + 1\n",
    "        while l < len(nums) - 2:\n",
    "            while r < len(nums) - 1:\n",
    "                if -(nums[l] + nums[r]) in nums[r+1:]: \n",
    "                    if sorted([nums[l], nums[r], -(nums[l] + nums[r])]) not in threesumlist:\n",
    "                        threesumlist.append(sorted([nums[l], nums[r], -(nums[l] + nums[r])]))\n",
    "                r += 1\n",
    "            l += 1\n",
    "            r = l + 1\n",
    "        return threesumlist\n",
    "        \n",
    "\n",
    "\n",
    "\n",
    "nums = [0,0,0,0]\n",
    "s = Solution()\n",
    "print(s.threeSum(nums))"
   ]
  },
  {
   "cell_type": "code",
   "execution_count": null,
   "metadata": {},
   "outputs": [],
   "source": [
    "\n",
    "def threeSum(self, nums: List[int]) -> List[List[int]]:\n",
    "    if len(nums) < 3: # Requires 3 for a pair of 3\n",
    "        return []\n",
    "    elif len(nums) == 3 and sum(nums) == 0: # Naive case; check sum of 3 elements\n",
    "        return [nums]\n",
    "\n",
    "    nums = sorted(nums) # O(nlogn)\n",
    "\n",
    "    solutions = []\n",
    "    i = 0\n",
    "    while i < len(nums) - 2:                       # Minus 2 because need 3 elements\n",
    "        if i > 0 and nums[i] == nums[i-1]:         # Skip any duplicates\n",
    "            i += 1\n",
    "            continue\n",
    "  \n",
    "        # Solve a 2 sum\n",
    "        j = i + 1\n",
    "        k = len(nums) - 1\n",
    "        target = 0 - nums[i]\n",
    "  \n",
    "        while j < k:\n",
    "            # Skip duplicates\n",
    "            if j > i + 1 and nums[j] == nums[j-1]:\n",
    "                j += 1\n",
    "                continue\n",
    "  \n",
    "            # Skip duplicates\n",
    "            if k < len(nums)-1 and nums[k] == nums[k+1]:\n",
    "                k -= 1\n",
    "                continue\n",
    "\n",
    "            jkSum = nums[j] + nums[k]\n",
    "            if jkSum == target: # Found pair\n",
    "                solutions.append([nums[i], nums[j], nums[k]])\n",
    "\n",
    "            if jkSum > target:\n",
    "                k -= 1\n",
    "            else:\n",
    "                j += 1 # Advances from solution too\n",
    "\n",
    "        i += 1\n",
    "  \n",
    "    return solutions\n",
    "view rawleetcode_15_solution.py hosted with ❤ by GitHub"
   ]
  }
 ],
 "metadata": {
  "kernelspec": {
   "display_name": "base",
   "language": "python",
   "name": "python3"
  },
  "language_info": {
   "codemirror_mode": {
    "name": "ipython",
    "version": 3
   },
   "file_extension": ".py",
   "mimetype": "text/x-python",
   "name": "python",
   "nbconvert_exporter": "python",
   "pygments_lexer": "ipython3",
   "version": "3.11.5"
  }
 },
 "nbformat": 4,
 "nbformat_minor": 2
}
