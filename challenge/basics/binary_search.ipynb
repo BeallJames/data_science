{
 "cells": [
  {
   "cell_type": "code",
   "execution_count": 4,
   "metadata": {},
   "outputs": [
    {
     "name": "stdout",
     "output_type": "stream",
     "text": [
      "sorted array: [-1, 0, 1, 1, 2, 2, 2, 3, 3, 4, 4, 5, 5, 6, 8, 9, 25]\n",
      "(4, 9)\n",
      "val 4 is at index 9\n"
     ]
    }
   ],
   "source": [
    "test_arr = [1,2,3,4,5,2,8,6,5,4,9,0,1,2,3,25,-1]\n",
    "\n",
    "def binary_search(arr, target):\n",
    "    l = 0\n",
    "    h = len(arr) - 1\n",
    "    while l <= h:\n",
    "        m = (l + h) // 2\n",
    "        if arr[m] == target:\n",
    "            return arr[m], m - 1\n",
    "        elif arr[m] < target:\n",
    "            l = m + 1\n",
    "        else:\n",
    "            h = m - 1\n",
    "    return -1 # target not found\n",
    "\n",
    "target_in = int(input('Enter a number to search for: '))\n",
    "print(f'sorted array: {sorted(test_arr)}')\n",
    "print(binary_search(sorted(test_arr), target_in))\n",
    "val, mid = binary_search(sorted(test_arr), target_in) #works on sorted array only\n",
    "print(f'val {val} is at index {mid}')"
   ]
  },
  {
   "cell_type": "code",
   "execution_count": 5,
   "metadata": {},
   "outputs": [
    {
     "ename": "SyntaxError",
     "evalue": "invalid syntax (4065475192.py, line 4)",
     "output_type": "error",
     "traceback": [
      "\u001b[1;36m  Cell \u001b[1;32mIn[5], line 4\u001b[1;36m\u001b[0m\n\u001b[1;33m    def\u001b[0m\n\u001b[1;37m       ^\u001b[0m\n\u001b[1;31mSyntaxError\u001b[0m\u001b[1;31m:\u001b[0m invalid syntax\n"
     ]
    }
   ],
   "source": [
    "# LeetCode 33. Search in Rotated Sorted Array\n",
    "\n",
    "class Solution:\n",
    "    def"
   ]
  },
  {
   "cell_type": "code",
   "execution_count": 10,
   "metadata": {},
   "outputs": [
    {
     "data": {
      "text/plain": [
       "4"
      ]
     },
     "execution_count": 10,
     "metadata": {},
     "output_type": "execute_result"
    }
   ],
   "source": [
    "# LeetCode 704. Binary Search. Copilot \n",
    "\n",
    "from typing import List\n",
    "\n",
    "class Solution:\n",
    "    def search(self, nums: List[int], target: int) -> int:\n",
    "        l = 0\n",
    "        h = len(nums) - 1\n",
    "        while l <= h:\n",
    "            m = (l + h) // 2\n",
    "            if nums[m] == target:\n",
    "                return m\n",
    "            elif nums[m] < target:\n",
    "                l = m + 1\n",
    "            else:\n",
    "                h = m - 1\n",
    "        return -1 # target not found\n",
    "    \n",
    "nums = [-1,0,3,5,9,12]\n",
    "target = 9\n",
    "sol = Solution()\n",
    "sol.search(nums, target)"
   ]
  },
  {
   "cell_type": "code",
   "execution_count": 9,
   "metadata": {},
   "outputs": [
    {
     "data": {
      "text/plain": [
       "4"
      ]
     },
     "execution_count": 9,
     "metadata": {},
     "output_type": "execute_result"
    }
   ],
   "source": [
    "# LeetCode 704. Binary Search. NeetCode https://www.youtube.com/watch?v=s4DPM8ct1pI\n",
    "\n",
    "from typing import List\n",
    "\n",
    "class Solution:\n",
    "    def search(self, nums: List[int], target: int) -> int:\n",
    "        l, r = 0, len(nums) - 1\n",
    "        while l <= r:\n",
    "            m = (l + (r - l) // 2)\n",
    "            if nums[m] > target:\n",
    "                r = m - 1\n",
    "            elif nums[m] < target:\n",
    "                l = m + 1\n",
    "            else:\n",
    "                return m\n",
    "        return -1\n",
    "    \n",
    "nums = [-1,0,3,5,9,12]\n",
    "target = 9\n",
    "sol = Solution()\n",
    "sol.search(nums, target)"
   ]
  }
 ],
 "metadata": {
  "kernelspec": {
   "display_name": "Python 3",
   "language": "python",
   "name": "python3"
  },
  "language_info": {
   "codemirror_mode": {
    "name": "ipython",
    "version": 3
   },
   "file_extension": ".py",
   "mimetype": "text/x-python",
   "name": "python",
   "nbconvert_exporter": "python",
   "pygments_lexer": "ipython3",
   "version": "3.11.5"
  }
 },
 "nbformat": 4,
 "nbformat_minor": 2
}
