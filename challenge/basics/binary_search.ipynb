{
 "cells": [
  {
   "cell_type": "code",
   "execution_count": 13,
   "metadata": {},
   "outputs": [
    {
     "name": "stdout",
     "output_type": "stream",
     "text": [
      "sorted array: [-1, 0, 1, 1, 2, 2, 2, 3, 3, 4, 4, 5, 5, 6, 8, 9, 25]\n",
      "(3, 7)\n",
      "val 3 is at index 7\n"
     ]
    }
   ],
   "source": [
    "test_arr = [1,2,3,4,5,2,8,6,5,4,9,0,1,2,3,25,-1]\n",
    "\n",
    "def binary_search(arr, target):\n",
    "    l = 0\n",
    "    h = len(arr) - 1\n",
    "    while l <= h:\n",
    "        m = (l + h) // 2\n",
    "        if arr[m] == target:\n",
    "            return arr[m], m - 1\n",
    "        elif arr[m] < target:\n",
    "            l = m + 1\n",
    "        else:\n",
    "            h = m - 1\n",
    "    return -1 # target not found\n",
    "\n",
    "target_in = int(input('Enter a number to search for: '))\n",
    "print(f'sorted array: {sorted(test_arr)}')\n",
    "print(binary_search(sorted(test_arr), target_in))\n",
    "val, mid = binary_search(sorted(test_arr), target_in)\n",
    "print(f'val {val} is at index {mid}')"
   ]
  }
 ],
 "metadata": {
  "kernelspec": {
   "display_name": "Python 3",
   "language": "python",
   "name": "python3"
  },
  "language_info": {
   "codemirror_mode": {
    "name": "ipython",
    "version": 3
   },
   "file_extension": ".py",
   "mimetype": "text/x-python",
   "name": "python",
   "nbconvert_exporter": "python",
   "pygments_lexer": "ipython3",
   "version": "3.11.2"
  }
 },
 "nbformat": 4,
 "nbformat_minor": 2
}
