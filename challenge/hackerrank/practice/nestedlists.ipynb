{
 "cells": [
  {
   "cell_type": "code",
   "execution_count": null,
   "metadata": {},
   "outputs": [],
   "source": [
    "def lowestgrades():\n",
    "    d={}\n",
    "    for _ in range(int(input())):\n",
    "        name = input()\n",
    "        score = float(input())\n",
    "        d[name]=score\n",
    "    sorted_grades=sorted(d.values())\n",
    "    print(next(d.values()))\n",
    "    \n",
    "    \n",
    "    # print(lowest_two)\n",
    "    # lowest_names=[name for name, score in d.items() if score in lowest_two]\n",
    "    # print(lowest_names)\n",
    "    \n",
    "lowestgrades()"
   ]
  }
 ],
 "metadata": {
  "language_info": {
   "name": "python"
  }
 },
 "nbformat": 4,
 "nbformat_minor": 2
}
