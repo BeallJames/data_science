{
 "cells": [
  {
   "cell_type": "code",
   "execution_count": 2,
   "metadata": {},
   "outputs": [
    {
     "name": "stdout",
     "output_type": "stream",
     "text": [
      "[37.2, 37.21, 37.21, 39, 41]\n"
     ]
    }
   ],
   "source": [
    "def lowestgrades():\n",
    "    d = {\n",
    "        'Harry': 37.21,\n",
    "        'Berry': 37.21,\n",
    "        'Tina': 37.2,\n",
    "        'Akriti': 41,\n",
    "        'Harsh': 39\n",
    "    }\n",
    "\n",
    "    \n",
    "    sorted_grades=sorted(d.values())\n",
    "    print(sorted_grades)\n",
    "    \n",
    "    \n",
    "    # print(lowest_two)\n",
    "    # lowest_names=[name for name, score in d.items() if score in lowest_two]\n",
    "    # print(lowest_names)\n",
    "    \n",
    "lowestgrades()\n"
   ]
  }
 ],
 "metadata": {
  "kernelspec": {
   "display_name": "base",
   "language": "python",
   "name": "python3"
  },
  "language_info": {
   "codemirror_mode": {
    "name": "ipython",
    "version": 3
   },
   "file_extension": ".py",
   "mimetype": "text/x-python",
   "name": "python",
   "nbconvert_exporter": "python",
   "pygments_lexer": "ipython3",
   "version": "3.11.5"
  }
 },
 "nbformat": 4,
 "nbformat_minor": 2
}
