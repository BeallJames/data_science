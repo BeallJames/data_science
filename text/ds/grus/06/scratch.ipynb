{
 "cells": [
  {
   "cell_type": "code",
   "execution_count": 14,
   "metadata": {},
   "outputs": [
    {
     "name": "stdout",
     "output_type": "stream",
     "text": [
      "g 50.270000%\n",
      "eg 75.470000%\n",
      "bg 25.400000%\n"
     ]
    },
    {
     "data": {
      "text/plain": [
       "'g'"
      ]
     },
     "execution_count": 14,
     "metadata": {},
     "output_type": "execute_result"
    }
   ],
   "source": [
    "import math, random\n",
    "\n",
    "def random_kid():\n",
    "    return random.choice(['b', 'g'])\n",
    "\n",
    "g=0\n",
    "b=0\n",
    "eg=0\n",
    "eb=0\n",
    "bg=0\n",
    "bb=0\n",
    "\n",
    "# random.seed(0)\n",
    "for _ in range(10000):\n",
    "    older = random_kid()\n",
    "    younger = random_kid()\n",
    "    if older == 'g':\n",
    "        g += 1\n",
    "    if older == 'g' and younger == 'g':\n",
    "        bg += 1\n",
    "    if older == 'g' or younger == 'g':\n",
    "        eg += 1\n",
    "\n",
    "print(f'g {g/10000:0%}')\n",
    "print(f'eg {eg/10000:0%}')\n",
    "print(f'bg {bg/10000:0%}')\n",
    "\n",
    "random_kid()"
   ]
  }
 ],
 "metadata": {
  "kernelspec": {
   "display_name": "Python 3",
   "language": "python",
   "name": "python3"
  },
  "language_info": {
   "codemirror_mode": {
    "name": "ipython",
    "version": 3
   },
   "file_extension": ".py",
   "mimetype": "text/x-python",
   "name": "python",
   "nbconvert_exporter": "python",
   "pygments_lexer": "ipython3",
   "version": "3.11.2"
  }
 },
 "nbformat": 4,
 "nbformat_minor": 2
}
