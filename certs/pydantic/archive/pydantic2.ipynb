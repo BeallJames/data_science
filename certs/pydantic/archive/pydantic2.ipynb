{
 "cells": [
  {
   "cell_type": "code",
   "execution_count": null,
   "metadata": {},
   "outputs": [],
   "source": [
    "import pydantic\n",
    "from typing import Optional, List\n",
    "\n",
    "class Book(pydantic.BaseModel):\n",
    "    \n",
    "    title: str\n",
    "    author: str\n",
    "    publisher: str\n",
    "    price: float\n",
    "    isbn_10: Optional[str] \n",
    "    isbn_13: Optional[str]\n",
    "    subtitle: Optional[str]\n"
   ]
  }
 ],
 "metadata": {
  "language_info": {
   "name": "python"
  }
 },
 "nbformat": 4,
 "nbformat_minor": 2
}
